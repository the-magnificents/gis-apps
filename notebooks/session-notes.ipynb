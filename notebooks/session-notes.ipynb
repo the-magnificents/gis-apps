{
 "cells": [
  {
   "cell_type": "markdown",
   "metadata": {},
   "source": [
    "# GIS Client\n",
    "\n",
    "A web client is web application that recieves and pushes data from servers. This notebook presents some example on how connect to geo-webserver and what is possible to do with interactive maps.\n",
    "\n",
    "Some of the examples are based on this [blog-post](https://blog.jupyter.org/interactive-gis-in-jupyter-with-ipyleaflet-52f9657fa7a) and the [ofitial documentation of ipyleaflet]() : "
   ]
  },
  {
   "cell_type": "markdown",
   "metadata": {},
   "source": [
    "## Displaying a Base Map"
   ]
  },
  {
   "cell_type": "code",
   "execution_count": 1,
   "metadata": {},
   "outputs": [
    {
     "data": {
      "application/vnd.jupyter.widget-view+json": {
       "model_id": "de2c7f7cbcba4e2face18848aa28791c",
       "version_major": 2,
       "version_minor": 0
      },
      "text/plain": [
       "Map(center=[51.999285, 4.373791], controls=(ZoomControl(options=['position', 'zoom_in_text', 'zoom_in_title', …"
      ]
     },
     "metadata": {},
     "output_type": "display_data"
    }
   ],
   "source": [
    "from ipyleaflet import Map, Marker\n",
    "\n",
    "# location for centeting the map\n",
    "center = (51.999285, 4.373791)\n",
    "\n",
    "# create map instance with a center point an a zoom level\n",
    "m = Map(center=center, zoom=14)\n",
    "\n",
    "# create marker\n",
    "marker = Marker(location=center, draggable=True)\n",
    "# add marker to the map instance\n",
    "m.add_layer(marker)\n",
    "\n",
    "# display map\n",
    "# by default ipyleaflet will display Open Street Mas as base map\n",
    "display(m)"
   ]
  },
  {
   "cell_type": "code",
   "execution_count": 4,
   "metadata": {},
   "outputs": [
    {
     "data": {
      "application/vnd.jupyter.widget-view+json": {
       "model_id": "a6d7601121194a7e83f20b1b3ed209af",
       "version_major": 2,
       "version_minor": 0
      },
      "text/plain": [
       "Map(center=[51.999285, 4.373791], controls=(ZoomControl(options=['position', 'zoom_in_text', 'zoom_in_title', …"
      ]
     },
     "metadata": {},
     "output_type": "display_data"
    }
   ],
   "source": [
    "# Change base map\n",
    "from ipyleaflet import basemaps\n",
    "\n",
    "# Using topographic map\n",
    "m = Map(basemap=basemaps.OpenTopoMap, center=center, zoom=5)\n",
    "\n",
    "m.add_layer(marker)\n",
    "\n",
    "display(m)"
   ]
  },
  {
   "cell_type": "code",
   "execution_count": 5,
   "metadata": {},
   "outputs": [
    {
     "data": {
      "application/vnd.jupyter.widget-view+json": {
       "model_id": "856d9a854f1b4cca923dcead9a4025b7",
       "version_major": 2,
       "version_minor": 0
      },
      "text/plain": [
       "Map(center=[51.999285, 4.373791], controls=(ZoomControl(options=['position', 'zoom_in_text', 'zoom_in_title', …"
      ]
     },
     "metadata": {},
     "output_type": "display_data"
    }
   ],
   "source": [
    "# Using a Night-lights base map\n",
    "m = Map(basemap=basemaps.NASAGIBS.ViirsEarthAtNight2012, center=center, zoom=3)\n",
    "\n",
    "# More options: https://ipyleaflet.readthedocs.io/en/latest/api_reference/basemaps.html\n",
    "\n",
    "m.add_layer(marker)\n",
    "\n",
    "display(m)"
   ]
  },
  {
   "cell_type": "code",
   "execution_count": 6,
   "metadata": {},
   "outputs": [
    {
     "data": {
      "application/vnd.jupyter.widget-view+json": {
       "model_id": "191ee3ff641f400aa7df129545010244",
       "version_major": 2,
       "version_minor": 0
      },
      "text/plain": [
       "Map(center=[51.999285, 4.373791], controls=(ZoomControl(options=['position', 'zoom_in_text', 'zoom_in_title', …"
      ]
     },
     "metadata": {},
     "output_type": "display_data"
    }
   ],
   "source": [
    "# Using a funny-looking basemap\n",
    "m = Map(basemap=basemaps.Stamen.Watercolor, center=center, zoom=10)\n",
    "\n",
    "# More options: https://ipyleaflet.readthedocs.io/en/latest/api_reference/basemaps.html\n",
    "\n",
    "m.add_layer(marker)\n",
    "\n",
    "display(m)"
   ]
  },
  {
   "cell_type": "markdown",
   "metadata": {},
   "source": [
    "## Add Layers from GeoServer (WMS)"
   ]
  },
  {
   "cell_type": "code",
   "execution_count": 7,
   "metadata": {},
   "outputs": [
    {
     "data": {
      "application/vnd.jupyter.widget-view+json": {
       "model_id": "4c9812f50a0c4d4c9f3c9b7cfe66e8fe",
       "version_major": 2,
       "version_minor": 0
      },
      "text/plain": [
       "Map(center=[40.712776, -74.005974], controls=(ZoomControl(options=['position', 'zoom_in_text', 'zoom_in_title'…"
      ]
     },
     "metadata": {},
     "output_type": "display_data"
    }
   ],
   "source": [
    "# For this to work you need point the url to your GeoServer instance. the tiger_roads layer comes with the standard distribution of GeoServer.\n",
    "\n",
    "from ipyleaflet import WMSLayer\n",
    "wms = WMSLayer(\n",
    "    url='http://ec2-35-158-182-30.eu-central-1.compute.amazonaws.com:8080/geoserver/tiger/wms?',\n",
    "    layers='tiger_roads',\n",
    "    format='image/png',\n",
    "    transparent=True,\n",
    "    attribution='some words of appreciation'\n",
    ")\n",
    "\n",
    "new_york=(40.712776, -74.005974)\n",
    "\n",
    "m = Map(basemap=basemaps.Stamen.Watercolor, center=new_york, zoom=14)\n",
    "\n",
    "m.add_layer(wms)\n",
    "\n",
    "display(m)"
   ]
  }
 ],
 "metadata": {
  "kernelspec": {
   "display_name": "Python 3",
   "language": "python",
   "name": "python3"
  },
  "language_info": {
   "codemirror_mode": {
    "name": "ipython",
    "version": 3
   },
   "file_extension": ".py",
   "mimetype": "text/x-python",
   "name": "python",
   "nbconvert_exporter": "python",
   "pygments_lexer": "ipython3",
   "version": "3.8.3"
  }
 },
 "nbformat": 4,
 "nbformat_minor": 4
}