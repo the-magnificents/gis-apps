{
 "cells": [
  {
   "cell_type": "code",
   "execution_count": 7,
   "metadata": {},
   "outputs": [
    {
     "data": {
      "application/vnd.jupyter.widget-view+json": {
       "model_id": "65f3dbc442d94044a9591ae0d2b26190",
       "version_major": 2,
       "version_minor": 0
      },
      "text/plain": [
       "Map(center=[51.999285, 4.373791], controls=(ZoomControl(options=['position', 'zoom_in_text', 'zoom_in_title', …"
      ]
     },
     "metadata": {},
     "output_type": "display_data"
    }
   ],
   "source": [
    "from ipyleaflet import Map, Marker\n",
    "\n",
    "# define center for map\n",
    "center=(51.999285, 4.373791)\n",
    "\n",
    "m=Map(center=center, zoom=21)\n",
    "\n",
    "marker=Marker(location=center, draggable=True)\n",
    "\n",
    "# add marker to map\n",
    "m.add_layer(marker)\n",
    "\n",
    "display(m)\n",
    "\n"
   ]
  },
  {
   "cell_type": "code",
   "execution_count": 8,
   "metadata": {},
   "outputs": [
    {
     "data": {
      "application/vnd.jupyter.widget-view+json": {
       "model_id": "7b54427aa8e3427aab494bcb3929b58a",
       "version_major": 2,
       "version_minor": 0
      },
      "text/plain": [
       "Map(center=[51.999285, 4.373791], controls=(ZoomControl(options=['position', 'zoom_in_text', 'zoom_in_title', …"
      ]
     },
     "metadata": {},
     "output_type": "display_data"
    }
   ],
   "source": [
    "from ipyleaflet import basemaps\n",
    "\n",
    "# Using topographic map\n",
    "m = Map(basemap=basemaps.OpenTopoMap, center=center, zoom=5)\n",
    "\n",
    "m.add_layer(marker)\n",
    "\n",
    "display(m)\n"
   ]
  },
  {
   "cell_type": "code",
   "execution_count": 9,
   "metadata": {},
   "outputs": [
    {
     "data": {
      "application/vnd.jupyter.widget-view+json": {
       "model_id": "59b90ee0001b4c6bbb5b888a95fff9b3",
       "version_major": 2,
       "version_minor": 0
      },
      "text/plain": [
       "Map(center=[51.999285, 4.373791], controls=(ZoomControl(options=['position', 'zoom_in_text', 'zoom_in_title', …"
      ]
     },
     "metadata": {},
     "output_type": "display_data"
    }
   ],
   "source": [
    "# Using a Night-lights base map\n",
    "m = Map(basemap=basemaps.NASAGIBS.ViirsEarthAtNight2012, center=center, zoom=3)\n",
    "\n",
    "# More options: https://ipyleaflet.readthedocs.io/en/latest/api_reference/basemaps.html\n",
    "\n",
    "m.add_layer(marker)\n",
    "\n",
    "display(m)"
   ]
  },
  {
   "cell_type": "code",
   "execution_count": 10,
   "metadata": {},
   "outputs": [
    {
     "data": {
      "application/vnd.jupyter.widget-view+json": {
       "model_id": "ab6afb97d4e7487c8026d7a229170d12",
       "version_major": 2,
       "version_minor": 0
      },
      "text/plain": [
       "Map(center=[51.999285, 4.373791], controls=(ZoomControl(options=['position', 'zoom_in_text', 'zoom_in_title', …"
      ]
     },
     "metadata": {},
     "output_type": "display_data"
    }
   ],
   "source": [
    "# Using a funny-looking basemap\n",
    "m = Map(basemap=basemaps.Stamen.Watercolor, center=center, zoom=10)\n",
    "\n",
    "# More options: https://ipyleaflet.readthedocs.io/en/latest/api_reference/basemaps.html\n",
    "\n",
    "m.add_layer(marker)\n",
    "\n",
    "display(m)"
   ]
  },
  {
   "cell_type": "code",
   "execution_count": 12,
   "metadata": {},
   "outputs": [
    {
     "data": {
      "application/vnd.jupyter.widget-view+json": {
       "model_id": "007d2c8264e54041b19ae2bf5eb9a6eb",
       "version_major": 2,
       "version_minor": 0
      },
      "text/plain": [
       "Map(center=[40.712776, -74.005974], controls=(ZoomControl(options=['position', 'zoom_in_text', 'zoom_in_title'…"
      ]
     },
     "metadata": {},
     "output_type": "display_data"
    }
   ],
   "source": [
    "from ipyleaflet import WMSLayer\n",
    "\n",
    "wms=WMSLayer(\n",
    "    url='http://ec2-35-158-182-30.eu-central-1.compute.amazonaws.com:8080/geoserver/tiger/wms?',\n",
    "    layers='tiger_roads',\n",
    "    format='image/png',\n",
    "    transparent=True,\n",
    "    attribution='geoserver'   \n",
    ")\n",
    "\n",
    "new_york=(40.712776, -74.005974)\n",
    "\n",
    "m = Map(basemap=basemaps.Stamen.Watercolor, center=new_york, zoom=14)\n",
    "\n",
    "m.add_layer(wms)\n",
    "display(m)\n"
   ]
  },
  {
   "cell_type": "code",
   "execution_count": null,
   "metadata": {},
   "outputs": [],
   "source": []
  }
 ],
 "metadata": {
  "kernelspec": {
   "display_name": "Python 3",
   "language": "python",
   "name": "python3"
  },
  "language_info": {
   "codemirror_mode": {
    "name": "ipython",
    "version": 3
   },
   "file_extension": ".py",
   "mimetype": "text/x-python",
   "name": "python",
   "nbconvert_exporter": "python",
   "pygments_lexer": "ipython3",
   "version": "3.8.3"
  }
 },
 "nbformat": 4,
 "nbformat_minor": 4
}
